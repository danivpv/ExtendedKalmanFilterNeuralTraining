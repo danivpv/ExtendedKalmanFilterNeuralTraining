{
 "cells": [
  {
   "cell_type": "markdown",
   "metadata": {},
   "source": [
    "# VIH Noisy Dynamic Identification"
   ]
  },
  {
   "cell_type": "code",
   "execution_count": 1,
   "metadata": {},
   "outputs": [],
   "source": [
    "using DrWatson\n",
    "@quickactivate :ExtendedKalmanFilterNeuralTraining\n",
    "#@quickactivate \"ExtendedKalmanFilterNeuralTraining\"; include(srcdir(\"ExtendedKalmanFilterNeuralTraining.jl\"))\n",
    "\n",
    "using XLSX, DataFrames"
   ]
  },
  {
   "cell_type": "code",
   "execution_count": 2,
   "metadata": {},
   "outputs": [
    {
     "data": {
      "text/latex": [
       "$$ \\begin{align}\n",
       "\\frac{dT(t)}{dt} =& s_{T} + \\frac{\\rho_{T} T\\left( t \\right) V\\left( t \\right)}{C_{T} + V\\left( t \\right)} - \\delta_{T} T\\left( t \\right) - k_{T} T\\left( t \\right) V\\left( t \\right) \\\\\n",
       "\\frac{dT_{inf(t)}}{dt} =&  - \\delta_{Tinf} T_{inf}\\left( t \\right) + k_{T} T\\left( t \\right) V\\left( t \\right) \\\\\n",
       "\\frac{dM(t)}{dt} =& s_{M} + \\frac{\\rho_{M} M\\left( t \\right) V\\left( t \\right)}{C_{M} + V\\left( t \\right)} - \\delta_{M} M\\left( t \\right) - k_{M} M\\left( t \\right) V\\left( t \\right) \\\\\n",
       "\\frac{dM_{inf(t)}}{dt} =&  - \\delta_{Minf} M_{inf}\\left( t \\right) + k_{M} M\\left( t \\right) V\\left( t \\right) \\\\\n",
       "\\frac{dV(t)}{dt} =& p_{M} M_{inf}\\left( t \\right) + p_{T} T_{inf}\\left( t \\right) - \\delta_{V} V\\left( t \\right)\n",
       "\\end{align}\n",
       " $$"
      ],
      "text/plain": [
       "\u001b[0m\u001b[1mModel hiv with 5 \u001b[22m\u001b[0m\u001b[1mequations\u001b[22m\n",
       "\u001b[0m\u001b[1mStates (5):\u001b[22m\n",
       "  T(t) [defaults to 1000.0]\n",
       "  T_inf(t) [defaults to 0.0]\n",
       "  M(t) [defaults to 150.0]\n",
       "  M_inf(t) [defaults to 0.0]\n",
       "⋮\n",
       "\u001b[0m\u001b[1mParameters (15):\u001b[22m\n",
       "  ρ_T [defaults to 0.01]\n",
       "  C_T [defaults to 300]\n",
       "  k_T [defaults to 4.57e-5]\n",
       "  s_T [defaults to 10.0]\n",
       "⋮"
      ]
     },
     "metadata": {},
     "output_type": "display_data"
    }
   ],
   "source": [
    "using ModelingToolkit, DifferentialEquations\n",
    "\n",
    "@named hiv = HIV()\n",
    "display(hiv)\n",
    "\n",
    "HIV_tspan = (0.0, 365.0 * 10)\n",
    "HIV_prob = ODEProblem(hiv, [], HIV_tspan)\n",
    "HIV_sol = solve(HIV_prob);\n",
    "\n",
    "x = DataFrame(hcat(map(HIV_sol, 0.0:2:max(HIV_tspan...))...)', [\"T\", \"T_inf\", \"M\", \"M_inf\", \"V\"]);"
   ]
  },
  {
   "cell_type": "markdown",
   "metadata": {},
   "source": [
    "### EKF and Tikonov EKF algorithm comparison"
   ]
  },
  {
   "cell_type": "code",
   "execution_count": 6,
   "metadata": {},
   "outputs": [
    {
     "name": "stderr",
     "output_type": "stream",
     "text": [
      "┌ Info: Scanning folder c:\\Users\\Daniel I Parra Verde\\OneDrive\\Documentos\\Proyectos\\ExtendedKalmanFilterNeuralTraining\\data\\EFKvsTikonovEFK for result files.\n",
      "└ @ DrWatson C:\\Users\\Daniel I Parra Verde\\.julia\\packages\\DrWatson\\S4dYA\\src\\result_collection.jl:115\n",
      "┌ Info: Added 2 entries.\n",
      "└ @ DrWatson C:\\Users\\Daniel I Parra Verde\\.julia\\packages\\DrWatson\\S4dYA\\src\\result_collection.jl:191\n"
     ]
    }
   ],
   "source": [
    "allparams = Dict(\n",
    "    \"N\" => 50, # it is inside vector. It is expanded.\n",
    "    \"dB\" => 20.0,\n",
    "    \"alg\" => [\"EKF!\", \"TikonovEKF!\"],     # single element inside vector; no expansion\n",
    "    \"noise\" => \"gaussian_noise\", # not in vector = not expanded, even if naturally iterable\n",
    ")\n",
    "\n",
    "dicts = dict_list(allparams)\n",
    "for d in dicts\n",
    "    f = makesim(d, x)\n",
    "    wsave(datadir(\"EFKvsTikonovEFK\", savename(d, \"jld2\")), f)\n",
    "end\n",
    "\n",
    "EFKvsTikonovEFK = collect_results(datadir(\"EFKvsTikonovEFK\"))\n",
    "\n",
    "XLSX.writetable(datadir(\"EFKvsTikonovEFK\", \"full_table.xlsx\"), EFKvsTikonovEFK)"
   ]
  },
  {
   "cell_type": "markdown",
   "metadata": {},
   "source": [
    "### TikonovEFK robustness of gaussian noise\n",
    " "
   ]
  },
  {
   "cell_type": "code",
   "execution_count": 7,
   "metadata": {},
   "outputs": [
    {
     "name": "stderr",
     "output_type": "stream",
     "text": [
      "┌ Info: Scanning folder c:\\Users\\Daniel I Parra Verde\\OneDrive\\Documentos\\Proyectos\\ExtendedKalmanFilterNeuralTraining\\data\\Robustness for result files.\n",
      "└ @ DrWatson C:\\Users\\Daniel I Parra Verde\\.julia\\packages\\DrWatson\\S4dYA\\src\\result_collection.jl:115\n",
      "┌ Info: Added 21 entries.\n",
      "└ @ DrWatson C:\\Users\\Daniel I Parra Verde\\.julia\\packages\\DrWatson\\S4dYA\\src\\result_collection.jl:191\n"
     ]
    }
   ],
   "source": [
    "allparams = Dict(\n",
    "    \"N\" => 5, # it is inside vector. It is expanded.\n",
    "    \"dB\" => collect(0:1:20),\n",
    "    \"alg\" => \"TikonovEKF!\",     # single element inside vector; no expansion\n",
    "    \"noise\" => \"gaussian_noise\", # not in vector = not expanded, even if naturally iterable\n",
    ")\n",
    "\n",
    "dicts = dict_list(allparams)\n",
    "for d in dicts\n",
    "    f = makesim(d, x)\n",
    "    wsave(datadir(\"Robustness\", savename(d, \"jld2\")), f)\n",
    "end\n",
    "\n",
    "Robustness = collect_results(datadir(\"Robustness\"))\n",
    "\n",
    "XLSX.writetable(datadir(\"Robustness\", \"full_table.xlsx\"), Robustness)"
   ]
  },
  {
   "cell_type": "markdown",
   "metadata": {},
   "source": [
    "### TikonovEFK robustness of noise with different distributions"
   ]
  },
  {
   "cell_type": "code",
   "execution_count": 8,
   "metadata": {},
   "outputs": [],
   "source": [
    "allparams = Dict(\n",
    "    \"N\" => 5, \n",
    "    \"dB\" => collect(0:1:20),\n",
    "    \"alg\" => \"TikonovEKF!\",     \n",
    "    \"noise\" => [\"gaussian_noise\", \"uniform_noise\"]\n",
    ")\n",
    "\n",
    "dicts = dict_list(allparams)\n",
    "for d in dicts\n",
    "    f = makesim(d, x)\n",
    "    wsave(datadir(\"NoiseTypeComparison\", savename(d, \"jld2\")), f)\n",
    "end\n",
    "\n",
    "NoiseTypeComparison = collect_results(datadir(\"NoiseTypeComparison\"))\n",
    "\n",
    "XLSX.writetable(datadir(\"NoiseTypeComparison\", \"full_table.xlsx\"), NoiseTypeComparison)"
   ]
  },
  {
   "cell_type": "code",
   "execution_count": null,
   "metadata": {},
   "outputs": [],
   "source": []
  }
 ],
 "metadata": {
  "interpreter": {
   "hash": "b1fa48582e128c58efde5aacc30048027b5ab48d503414c750a90f0d4762af68"
  },
  "kernelspec": {
   "display_name": "Julia 1.7.1",
   "language": "julia",
   "name": "julia-1.7"
  },
  "language_info": {
   "file_extension": ".jl",
   "mimetype": "application/julia",
   "name": "julia",
   "version": "1.7.1"
  },
  "orig_nbformat": 4
 },
 "nbformat": 4,
 "nbformat_minor": 2
}
