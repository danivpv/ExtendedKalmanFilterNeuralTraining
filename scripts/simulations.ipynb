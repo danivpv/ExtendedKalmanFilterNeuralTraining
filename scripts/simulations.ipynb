{
 "cells": [
  {
   "cell_type": "markdown",
   "metadata": {},
   "source": [
    "# VIH Noisy Dynamic Identification"
   ]
  },
  {
   "cell_type": "code",
   "execution_count": 1,
   "metadata": {},
   "outputs": [],
   "source": [
    "using DrWatson\n",
    "@quickactivate :ExtendedKalmanFilterNeuralTraining\n",
    "#@quickactivate \"ExtendedKalmanFilterNeuralTraining\"; include(srcdir(\"ExtendedKalmanFilterNeuralTraining.jl\"))\n",
    "\n",
    "using XLSX\n",
    "\n",
    "using LinearAlgebra: Diagonal\n",
    "using Distributions: MvNormal"
   ]
  },
  {
   "cell_type": "code",
   "execution_count": 2,
   "metadata": {},
   "outputs": [
    {
     "data": {
      "text/latex": [
       "$$ \\begin{align}\n",
       "\\frac{dT(t)}{dt} =& s_{T} + \\frac{\\rho_{T} T\\left( t \\right) V\\left( t \\right)}{C_{T} + V\\left( t \\right)} - \\delta_{T} T\\left( t \\right) - k_{T} T\\left( t \\right) V\\left( t \\right) \\\\\n",
       "\\frac{dT_{inf(t)}}{dt} =&  - \\delta_{Tinf} T_{inf}\\left( t \\right) + k_{T} T\\left( t \\right) V\\left( t \\right) \\\\\n",
       "\\frac{dM(t)}{dt} =& s_{M} + \\frac{\\rho_{M} M\\left( t \\right) V\\left( t \\right)}{C_{M} + V\\left( t \\right)} - \\delta_{M} M\\left( t \\right) - k_{M} M\\left( t \\right) V\\left( t \\right) \\\\\n",
       "\\frac{dM_{inf(t)}}{dt} =&  - \\delta_{Minf} M_{inf}\\left( t \\right) + k_{M} M\\left( t \\right) V\\left( t \\right) \\\\\n",
       "\\frac{dV(t)}{dt} =& p_{M} M_{inf}\\left( t \\right) + p_{T} T_{inf}\\left( t \\right) - \\delta_{V} V\\left( t \\right)\n",
       "\\end{align}\n",
       " $$"
      ],
      "text/plain": [
       "\u001b[0m\u001b[1mModel hiv with 5 \u001b[22m\u001b[0m\u001b[1mequations\u001b[22m\n",
       "\u001b[0m\u001b[1mStates (5):\u001b[22m\n",
       "  T(t) [defaults to 1000.0]\n",
       "  T_inf(t) [defaults to 0.0]\n",
       "  M(t) [defaults to 150.0]\n",
       "  M_inf(t) [defaults to 0.0]\n",
       "⋮\n",
       "\u001b[0m\u001b[1mParameters (15):\u001b[22m\n",
       "  ρ_T [defaults to 0.01]\n",
       "  C_T [defaults to 300]\n",
       "  k_T [defaults to 4.57e-5]\n",
       "  s_T [defaults to 10.0]\n",
       "⋮"
      ]
     },
     "metadata": {},
     "output_type": "display_data"
    }
   ],
   "source": [
    "using ModelingToolkit, DifferentialEquations\n",
    "\n",
    "@named hiv = HIV()\n",
    "display(hiv)\n",
    "\n",
    "HIV_tspan = (0.0, 365.0 * 10)\n",
    "HIV_prob = ODEProblem(hiv, [], HIV_tspan)\n",
    "HIV_sol = solve(HIV_prob);\n",
    "\n",
    "x = DataFrame(hcat(map(HIV_sol, 0.0:2:max(HIV_tspan...))...)', [\"T\", \"T_inf\", \"M\", \"M_inf\", \"V\"]);"
   ]
  },
  {
   "cell_type": "markdown",
   "metadata": {},
   "source": [
    "## Training Algorithm Comparison"
   ]
  },
  {
   "cell_type": "markdown",
   "metadata": {},
   "source": [
    "#### Single experiment with fixed noise."
   ]
  },
  {
   "cell_type": "code",
   "execution_count": 3,
   "metadata": {},
   "outputs": [],
   "source": [
    "SST = \"Tikonov_Sample_Metrics\"\n",
    "SSEFK = \"EFK_Sample_Metrics\"\n",
    "N = 5\n",
    "dB = 20\n",
    "σ = dBs2σ.(dB)\n",
    "noise_robustness_simulations(N, x, TikonovEKF!(α=5e15), gaussian_noise, [σ], SST, names(x))\n",
    "noise_robustness_simulations(N, x, EKF!(), gaussian_noise, [σ], SSEFK, names(x))"
   ]
  },
  {
   "cell_type": "code",
   "execution_count": 4,
   "metadata": {},
   "outputs": [],
   "source": [
    "Tikonov_Sample_Metrics = get_sims_data(joinpath(\"noise_robustness\",SST));\n",
    "EFK_Sample_Metrics = get_sims_data(joinpath(\"noise_robustness\",SSEFK));"
   ]
  },
  {
   "cell_type": "code",
   "execution_count": 5,
   "metadata": {},
   "outputs": [],
   "source": [
    "gaussian_noisy_x = mapcols(gaussian_noise(σ), x);\n",
    "RHONN, params = HIV_model(gaussian_noisy_x)\n",
    "X_Tikonov = train!(RHONN, gaussian_noisy_x, params; algorithm=TikonovEKF!(α=5e15));"
   ]
  },
  {
   "cell_type": "code",
   "execution_count": 6,
   "metadata": {},
   "outputs": [],
   "source": [
    "export_df(X_Tikonov, \"TikonovEFK\", datadir(\"noise_robustness\", \"Single_Event\"))\n",
    "export_df(x, \"data\", datadir(\"noise_robustness\", \"Single_Event\"))\n",
    "export_df(gaussian_noisy_x, \"noisy_data\", datadir(\"noise_robustness\", \"Single_Event\"))"
   ]
  },
  {
   "cell_type": "markdown",
   "metadata": {},
   "source": [
    "#### Sampling EFK! vs TikonovEFK! Robustness of Gaussian Noise\n",
    " "
   ]
  },
  {
   "cell_type": "code",
   "execution_count": 7,
   "metadata": {},
   "outputs": [
    {
     "name": "stdout",
     "output_type": "stream",
     "text": [
      "393.482781 seconds (3.95 G allocations: 112.179 GiB, 5.70% gc time, 0.67% compilation time)\n"
     ]
    },
    {
     "name": "stderr",
     "output_type": "stream",
     "text": [
      "WARNING: both ModelingToolkit and DataFrames export \"flatten\"; uses of it in module ExtendedKalmanFilterNeuralTraining must be qualified\n",
      "WARNING: both Plots and LinearAlgebra export \"rotate!\"; uses of it in module ExtendedKalmanFilterNeuralTraining must be qualified\n"
     ]
    }
   ],
   "source": [
    "N = 50\n",
    "dBs = 0:1:20\n",
    "\n",
    "@time for alg in [EKF!, TikonovEKF!]\n",
    "    sigmas = dBs2σ.(dBs)\n",
    "    noise_robustness_simulations(N, x, alg(;α=5e15), gaussian_noise, sigmas, \"$alg\", names(x); path=joinpath(\"noise_robustness\",\"detailed_gaussian\"))\n",
    "end"
   ]
  },
  {
   "cell_type": "code",
   "execution_count": 8,
   "metadata": {},
   "outputs": [
    {
     "data": {
      "text/plain": [
       "Dict{SubString{String}, DataFrame} with 5 entries:\n",
       "  \"M_inf\" => \u001b[1m84×6 DataFrame\u001b[0m…\n",
       "  \"M\"     => \u001b[1m84×6 DataFrame\u001b[0m…\n",
       "  \"T\"     => \u001b[1m84×6 DataFrame\u001b[0m…\n",
       "  \"V\"     => \u001b[1m84×6 DataFrame\u001b[0m…\n",
       "  \"T_inf\" => \u001b[1m84×6 DataFrame\u001b[0m…"
      ]
     },
     "metadata": {},
     "output_type": "display_data"
    }
   ],
   "source": [
    "joined = merge_sims(datadir(\"noise_robustness\",\"detailed_gaussian\"), \"alg\")"
   ]
  },
  {
   "cell_type": "code",
   "execution_count": 9,
   "metadata": {},
   "outputs": [],
   "source": [
    "export_df_dict(joined, datadir(\"noise_robustness\",\"detailed_gaussian\"))"
   ]
  },
  {
   "cell_type": "markdown",
   "metadata": {},
   "source": [
    "#### Sampling of TikonovEFK! Noise Robustness with non Gaussian Noise. "
   ]
  },
  {
   "cell_type": "code",
   "execution_count": 168,
   "metadata": {},
   "outputs": [
    {
     "name": "stdout",
     "output_type": "stream",
     "text": [
      " 23.422951 seconds (104.11 M allocations: 3.684 GiB, 21.75% gc time, 22.09% compilation time)\n"
     ]
    }
   ],
   "source": [
    "N = 10\n",
    "dBs = -1:1:1\n",
    "\n",
    "@time begin\n",
    "    epsilons = dBs2ϵ.(dBs)\n",
    "    noise_robustness_simulations(N, x, TikonovEKF!(;α=5e15), uniform_noise, epsilons, \"UniformvsGaussian\\\\uniform_dBs\", names(x))\n",
    "\n",
    "    sigmas = dBs2σ.(dBs)\n",
    "    noise_robustness_simulations(N, x, TikonovEKF!(;α=5e15), gaussian_noise, sigmas, \"UniformvsGaussian\\\\gaussian_dBs\", names(x));\n",
    "end"
   ]
  },
  {
   "cell_type": "code",
   "execution_count": 171,
   "metadata": {},
   "outputs": [
    {
     "data": {
      "text/plain": [
       "Dict{SubString{String}, DataFrame} with 5 entries:\n",
       "  \"M_inf\" => \u001b[1m12×6 DataFrame\u001b[0m…\n",
       "  \"M\"     => \u001b[1m12×6 DataFrame\u001b[0m…\n",
       "  \"T\"     => \u001b[1m12×6 DataFrame\u001b[0m…\n",
       "  \"V\"     => \u001b[1m12×6 DataFrame\u001b[0m…\n",
       "  \"T_inf\" => \u001b[1m12×6 DataFrame\u001b[0m…"
      ]
     },
     "metadata": {},
     "output_type": "display_data"
    }
   ],
   "source": [
    "joined = merge_sims(datadir(joinpath(\"noise_robustness\",\"UniformvsGaussian\")), \"noise_type\")"
   ]
  },
  {
   "cell_type": "code",
   "execution_count": 175,
   "metadata": {},
   "outputs": [],
   "source": [
    "export_df_dict(joined, datadir(\"noise_robustness\",\"UniformvsGaussian\"))"
   ]
  },
  {
   "cell_type": "markdown",
   "metadata": {},
   "source": [
    "# Recycle"
   ]
  },
  {
   "cell_type": "markdown",
   "metadata": {},
   "source": [
    "##### Ensemble Comparison"
   ]
  },
  {
   "cell_type": "code",
   "execution_count": null,
   "metadata": {},
   "outputs": [],
   "source": [
    "using LinearAlgebra: Diagonal \n",
    "using Distributions: MvNormal\n",
    "\n",
    "N = 5\n",
    "σ = 0\n",
    "\n",
    "control = []\n",
    "results = []\n",
    "\n",
    "for i in 1:N\n",
    "    gaussian_noisy_x = mapcols(col -> max.(rand(MvNormal(col, σ * Diagonal(col.*noiseQ2))), 0.0), x);\n",
    "    F, params = HIV_model(x)\n",
    "    X, W = train!(F, x, params; algorithm=EKF!(), save_weights=true);\n",
    "    push!(control, W)\n",
    "end\n",
    "\n",
    "for i in 1:N\n",
    "    gaussian_noisy_x = mapcols(col -> max.(rand(MvNormal(col, σ * Diagonal(col.*noiseQ2))), 0.0), x);\n",
    "    F, params = HIV_model(x)\n",
    "    ReX, W = train!(F, x, params; algorithm=TikonovEKF!(α=2e14), save_weights=true);\n",
    "    push!(results, W)\n",
    "end\n",
    "\n",
    "HIV_plot([gaussian_noisy_x, first(results), first(control)], size=(1200,900), lbl = [\"Noisy Data\" \"TikonovEFK\" \"EFK\"])"
   ]
  },
  {
   "cell_type": "markdown",
   "metadata": {},
   "source": []
  }
 ],
 "metadata": {
  "interpreter": {
   "hash": "b1fa48582e128c58efde5aacc30048027b5ab48d503414c750a90f0d4762af68"
  },
  "kernelspec": {
   "display_name": "Julia 1.7.1",
   "language": "julia",
   "name": "julia-1.7"
  },
  "language_info": {
   "file_extension": ".jl",
   "mimetype": "application/julia",
   "name": "julia",
   "version": "1.7.1"
  },
  "orig_nbformat": 4
 },
 "nbformat": 4,
 "nbformat_minor": 2
}
